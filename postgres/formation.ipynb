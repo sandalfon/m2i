{
 "cells": [
  {
   "cell_type": "code",
   "execution_count": 31,
   "metadata": {},
   "outputs": [],
   "source": [
    "import psycopg2  \n",
    "import pprint  "
   ]
  },
  {
   "cell_type": "code",
   "execution_count": 38,
   "metadata": {},
   "outputs": [],
   "source": [
    "pwd  = \n",
    "conn = psycopg2.connect(\"dbname=formationDB user=postgres password=\"+pwd)\n",
    "cursor = conn.cursor()  "
   ]
  },
  {
   "cell_type": "code",
   "execution_count": 33,
   "metadata": {},
   "outputs": [],
   "source": [
    "cursor.execute(\"create table student(student_id bigserial primary key,\"+\n",
    "    \"name varchar(20) NOT NULL,\"+\n",
    "    \"lastName text NOT NULL,\"+\n",
    "    \"age int NOT NULL);\")\n",
    "conn.commit()"
   ]
  },
  {
   "cell_type": "code",
   "execution_count": 34,
   "metadata": {},
   "outputs": [],
   "source": [
    "\n",
    "cursor.execute(\"create table formation(formation_id bigserial primary key,\"+\n",
    "    \"libelle varchar(20) NOT NULL,\"+\n",
    "    \"duree int NOT NULL);\")\n",
    "conn.commit()"
   ]
  },
  {
   "cell_type": "code",
   "execution_count": 35,
   "metadata": {},
   "outputs": [],
   "source": [
    "cursor.execute(\"create table formateur(formateur_id bigserial primary key,\"+\n",
    "    \"name varchar(20) NOT NULL,\"+\n",
    "    \"lastName text NOT NULL,\"+\n",
    "    \"age int NOT NULL);\")\n",
    "conn.commit()"
   ]
  },
  {
   "cell_type": "code",
   "execution_count": 36,
   "metadata": {},
   "outputs": [],
   "source": [
    "cursor.execute(\"create table session(session_id bigserial primary key,\"+\n",
    "    \"debut timestamp default NULL,\"+\n",
    "    \"duree int NOT NULL)\")\n",
    "\n",
    "conn.commit()\n",
    "\n"
   ]
  },
  {
   "cell_type": "code",
   "execution_count": 39,
   "metadata": {},
   "outputs": [],
   "source": [
    "cursor.execute(\"ALTER TABLE session \"+\n",
    "               \"add column formateur integer, \"+\n",
    "   \"ADD CONSTRAINT fk_formateur \"+\n",
    "   \"FOREIGN KEY (formateur) \"+\n",
    "   \"REFERENCES formateur (formateur_id);\")\n",
    "conn.commit()\n",
    "cursor.execute(\"ALTER TABLE session \"+\n",
    "               \"add column formation integer, \"+\n",
    "   \"ADD CONSTRAINT fk_formation \"+\n",
    "   \"FOREIGN KEY (formation) \"+\n",
    "   \"REFERENCES formation (formation_id);\")\n",
    "\n",
    "conn.commit()\n",
    "\n"
   ]
  },
  {
   "cell_type": "code",
   "execution_count": 40,
   "metadata": {},
   "outputs": [],
   "source": [
    "conn.close()"
   ]
  },
  {
   "cell_type": "code",
   "execution_count": null,
   "metadata": {},
   "outputs": [],
   "source": []
  }
 ],
 "metadata": {
  "kernelspec": {
   "display_name": "Python 3",
   "language": "python",
   "name": "python3"
  },
  "language_info": {
   "codemirror_mode": {
    "name": "ipython",
    "version": 3
   },
   "file_extension": ".py",
   "mimetype": "text/x-python",
   "name": "python",
   "nbconvert_exporter": "python",
   "pygments_lexer": "ipython3",
   "version": "3.6.6"
  }
 },
 "nbformat": 4,
 "nbformat_minor": 2
}
