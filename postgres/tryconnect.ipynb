{
 "cells": [
  {
   "cell_type": "code",
   "execution_count": 20,
   "metadata": {},
   "outputs": [],
   "source": [
    "import psycopg2  \n",
    "import pprint  "
   ]
  },
  {
   "cell_type": "code",
   "execution_count": 21,
   "metadata": {},
   "outputs": [],
   "source": [
    "pwd  = \n",
    "conn = psycopg2.connect(\"dbname=formationDB user=postgres password=\"+pwd)\n",
    "cursor = conn.cursor()  "
   ]
  },
  {
   "cell_type": "code",
   "execution_count": null,
   "metadata": {},
   "outputs": [],
   "source": [
    "'''for i in range(1000):\n",
    "    print(i)\n",
    "    cursor.execute(\"INSERT INTO  public.tformations (id, libelle) values (%s, %s);\",(i,'Formation '+str(i)))\n",
    "conn.commit()\n",
    "'''"
   ]
  },
  {
   "cell_type": "code",
   "execution_count": 26,
   "metadata": {},
   "outputs": [
    {
     "name": "stdout",
     "output_type": "stream",
     "text": [
      "0 Formation 0                                                                                                                                                                                             \n",
      "1 Formation 1                                                                                                                                                                                             \n",
      "2 Formation 2                                                                                                                                                                                             \n",
      "3 Formation 3                                                                                                                                                                                             \n",
      "4 Formation 4                                                                                                                                                                                             \n",
      "5 Formation 5                                                                                                                                                                                             \n",
      "6 Formation 6                                                                                                                                                                                             \n",
      "7 Formation 7                                                                                                                                                                                             \n",
      "8 Formation 8                                                                                                                                                                                             \n",
      "9 Formation 9                                                                                                                                                                                             \n",
      "10 Formation 10                                                                                                                                                                                            \n",
      "11\n"
     ]
    }
   ],
   "source": [
    "\n",
    "#cursor.execute(\"INSERT INTO  public.tformation (id, libelle) values (%s, %s)\",(2,'Formation 2'))\n",
    "cursor.execute('SELECT id,libelle FROM tformations where id >=0 and id <=10;')  \n",
    "rows = cursor.fetchall()  \n",
    "for id, libelle in rows:\n",
    "       print(str(id)+\" \"+str(libelle) )\n",
    "print(len(rows))\n"
   ]
  },
  {
   "cell_type": "code",
   "execution_count": 32,
   "metadata": {},
   "outputs": [
    {
     "name": "stdout",
     "output_type": "stream",
     "text": [
      "10 Formation 10                                                                                                                                                                                            4\n",
      "9 Formation 9                                                                                                                                                                                             33\n",
      "8 Formation 8                                                                                                                                                                                             14\n",
      "7 Formation 7                                                                                                                                                                                             8\n",
      "6 Formation 6                                                                                                                                                                                             84\n",
      "5 Formation 5                                                                                                                                                                                             11\n",
      "4 Formation 4                                                                                                                                                                                             55\n",
      "3 Formation 3                                                                                                                                                                                             18\n",
      "2 Formation 2                                                                                                                                                                                             79\n",
      "1 Formation 1                                                                                                                                                                                             46\n",
      "0 Formation 0                                                                                                                                                                                             99\n",
      "11\n",
      "[(10, 'Formation 10                                                                                                                                                                                            ', 4), (9, 'Formation 9                                                                                                                                                                                             ', 33), (8, 'Formation 8                                                                                                                                                                                             ', 14), (7, 'Formation 7                                                                                                                                                                                             ', 8), (6, 'Formation 6                                                                                                                                                                                             ', 84), (5, 'Formation 5                                                                                                                                                                                             ', 11), (4, 'Formation 4                                                                                                                                                                                             ', 55), (3, 'Formation 3                                                                                                                                                                                             ', 18), (2, 'Formation 2                                                                                                                                                                                             ', 79), (1, 'Formation 1                                                                                                                                                                                             ', 46), (0, 'Formation 0                                                                                                                                                                                             ', 99)]\n"
     ]
    }
   ],
   "source": [
    "#cursor.execute(\"INSERT INTO  public.tformation (id, libelle) values (%s, %s)\",(2,'Formation 2'))\n",
    "cursor.execute('SELECT id,libelle, cast(random()*100 as integer) as rand FROM tformations where id between 0 and 10 order by id  desc;')  \n",
    "rows = cursor.fetchall()  \n",
    "for id, libelle,rand in rows:\n",
    "       print(str(id)+\" \"+str(libelle)+str(rand) )\n",
    "print(len(rows))\n",
    "print(rows)"
   ]
  },
  {
   "cell_type": "code",
   "execution_count": null,
   "metadata": {},
   "outputs": [],
   "source": []
  },
  {
   "cell_type": "code",
   "execution_count": 19,
   "metadata": {},
   "outputs": [],
   "source": [
    "\n",
    "conn.close()"
   ]
  },
  {
   "cell_type": "code",
   "execution_count": null,
   "metadata": {},
   "outputs": [],
   "source": []
  }
 ],
 "metadata": {
  "kernelspec": {
   "display_name": "Python 3",
   "language": "python",
   "name": "python3"
  },
  "language_info": {
   "codemirror_mode": {
    "name": "ipython",
    "version": 3
   },
   "file_extension": ".py",
   "mimetype": "text/x-python",
   "name": "python",
   "nbconvert_exporter": "python",
   "pygments_lexer": "ipython3",
   "version": "3.6.6"
  }
 },
 "nbformat": 4,
 "nbformat_minor": 2
}
