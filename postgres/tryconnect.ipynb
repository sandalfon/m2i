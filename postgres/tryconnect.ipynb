{
 "cells": [
  {
   "cell_type": "code",
   "execution_count": 49,
   "metadata": {},
   "outputs": [],
   "source": [
    "import psycopg2  \n",
    "import pprint  "
   ]
  },
  {
   "cell_type": "code",
   "execution_count": 53,
   "metadata": {},
   "outputs": [],
   "source": [
    "pwd  = \n",
    "conn = psycopg2.connect(\"dbname=formationDB user=postgres password=\"+pwd)\n"
   ]
  },
  {
   "cell_type": "code",
   "execution_count": 54,
   "metadata": {},
   "outputs": [
    {
     "name": "stdout",
     "output_type": "stream",
     "text": [
      "1 Formation 1\n",
      "2 Formation 2\n",
      "[(1, 'Formation 1'), (2, 'Formation 2')]\n"
     ]
    }
   ],
   "source": [
    "cursor = conn.cursor()  \n",
    "#cursor.execute(\"INSERT INTO  public.tformation (id, libelle) values (%s, %s)\",(2,'Formation 2'))\n",
    "cursor.execute('SELECT id,libelle FROM tformation ')  \n",
    "rows = cursor.fetchall()  \n",
    "for id, libelle in rows:\n",
    "       print(str(id)+\" \"+str(libelle) )\n",
    "print(rows)\n",
    "conn.commit()"
   ]
  },
  {
   "cell_type": "code",
   "execution_count": 55,
   "metadata": {},
   "outputs": [],
   "source": [
    "\n",
    "conn.close()"
   ]
  },
  {
   "cell_type": "code",
   "execution_count": null,
   "metadata": {},
   "outputs": [],
   "source": []
  }
 ],
 "metadata": {
  "kernelspec": {
   "display_name": "Python 3",
   "language": "python",
   "name": "python3"
  },
  "language_info": {
   "codemirror_mode": {
    "name": "ipython",
    "version": 3
   },
   "file_extension": ".py",
   "mimetype": "text/x-python",
   "name": "python",
   "nbconvert_exporter": "python",
   "pygments_lexer": "ipython3",
   "version": "3.6.6"
  }
 },
 "nbformat": 4,
 "nbformat_minor": 2
}
